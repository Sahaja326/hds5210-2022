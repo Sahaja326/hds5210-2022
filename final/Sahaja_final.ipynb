{
 "cells": [
  {
   "cell_type": "markdown",
   "metadata": {},
   "source": [
    "### Product applications\n",
    "#### We found how satisifed are U.S people with different hospital services.\n",
    "#### Rating for past three years?\n",
    "#### How change of ownerships affected the hospital rating?\n",
    "#### Did emergency services play key role in increasing the rating?"
   ]
  },
  {
   "cell_type": "code",
   "execution_count": 1,
   "metadata": {},
   "outputs": [],
   "source": [
    "import pymysql\n",
    "from sqlalchemy import create_engine\n",
    "import pandas as pd\n",
    "import numpy as np"
   ]
  },
  {
   "cell_type": "code",
   "execution_count": 2,
   "metadata": {},
   "outputs": [],
   "source": [
    "host = 'slucor2022-instance-1.cgdcoitnku0k.us-east-1.rds.amazonaws.com'\n",
    "port = '3306'\n",
    "user = 'slucor2022'\n",
    "password = 'SLUcor2022'\n",
    "database = 'hds5210'"
   ]
  },
  {
   "cell_type": "markdown",
   "metadata": {},
   "source": [
    "### Connecting to MySQL server and creating a table on my name"
   ]
  },
  {
   "cell_type": "code",
   "execution_count": 3,
   "metadata": {},
   "outputs": [
    {
     "data": {
      "text/plain": [
       "<sqlalchemy.engine.base.Connection at 0x7fbbdae93ef0>"
      ]
     },
     "execution_count": 3,
     "metadata": {},
     "output_type": "execute_result"
    }
   ],
   "source": [
    "conn = create_engine('mysql+pymysql://' + \n",
    "                     user + ':' + \n",
    "                     password + '@' + \n",
    "                     host + '/' + \n",
    "                     database, echo=False)\n",
    "\n",
    "import getpass\n",
    "myname = getpass.getuser().split('-')[1]\n",
    "myname\n",
    "MYTABLE = myname + '_final'\n",
    "\n",
    "conn.connect()"
   ]
  },
  {
   "cell_type": "markdown",
   "metadata": {},
   "source": [
    "### Loading all the necessary data.\n",
    "#### Data Formats: Excel, CSV, JSON\n",
    "#### Data Sources: Local files, MySQL DB. "
   ]
  },
  {
   "cell_type": "code",
   "execution_count": 4,
   "metadata": {},
   "outputs": [
    {
     "name": "stderr",
     "output_type": "stream",
     "text": [
      "/opt/tljh/user/lib/python3.6/site-packages/IPython/core/interactiveshell.py:3051: DtypeWarning: Columns (0,14,17,19,26) have mixed types.Specify dtype option on import or set low_memory=False.\n",
      "  interactivity=interactivity, compiler=compiler, result=result)\n"
     ]
    }
   ],
   "source": [
    "cms_2020 = pd.read_csv(\"cms_hospital_patient_satisfaction_2020.csv\")\n",
    "cms_2019 = pd.read_json(\"cms_hospital_patient_satisfaction_2019.json\")\n",
    "cms_2018 = pd.read_csv(\"cms_hospital_patient_satisfaction_2018.csv\")\n",
    "cms_2018.to_sql(MYTABLE, conn, if_exists = 'replace', index = False)\n",
    "cms_2018_sql = pd.read_sql_query('SELECT * FROM ' + MYTABLE, conn)"
   ]
  },
  {
   "cell_type": "markdown",
   "metadata": {},
   "source": [
    "### merge_data accepts three data files or data frames and merges them returns the merged data frame. "
   ]
  },
  {
   "cell_type": "code",
   "execution_count": 5,
   "metadata": {},
   "outputs": [],
   "source": [
    "def merge_data(file1, file2, file3):\n",
    "    import pandas as pd\n",
    "    data = []\n",
    "    data.append(file1)\n",
    "    data.append(file2)\n",
    "    data.append(file3)\n",
    "    return pd.concat(data)"
   ]
  },
  {
   "cell_type": "code",
   "execution_count": 6,
   "metadata": {},
   "outputs": [],
   "source": [
    "data = merge_data(cms_2020, cms_2019, cms_2018_sql)"
   ]
  },
  {
   "cell_type": "markdown",
   "metadata": {},
   "source": [
    "### fill_all_na takes any dataframe as input and returns the dataframe by replacing the NaN values by mean of the respective column. We need to make sure that we are giving numeric columns."
   ]
  },
  {
   "cell_type": "code",
   "execution_count": 7,
   "metadata": {},
   "outputs": [],
   "source": [
    "def fill_all_na(df):\n",
    "    for column in df.columns:\n",
    "        if any(df[column].isna()):\n",
    "            df[column].fillna(df[column].mean(), inplace = True)\n",
    "    return df"
   ]
  },
  {
   "cell_type": "markdown",
   "metadata": {},
   "source": [
    "### The below function is useful for us to clean the data, and make those columns numeric. Made this functions as couple of columns can use this to clean(as they have similar type of non-numeric values.)"
   ]
  },
  {
   "cell_type": "code",
   "execution_count": 8,
   "metadata": {},
   "outputs": [],
   "source": [
    "def preprocess_pat_sur_rating(data, column):\n",
    "    cms_rating = data[data[column] != 'Not Applicable']\n",
    "    cms_rating = cms_rating[cms_rating[column] != 'Not Available']\n",
    "    cms_rating[column] = cms_rating[column].astype('int')\n",
    "    return cms_rating"
   ]
  },
  {
   "cell_type": "markdown",
   "metadata": {},
   "source": [
    "### Pivoting the rating datatable with below parameters, which helps us in understanding all individual ratings for every facility ID. "
   ]
  },
  {
   "cell_type": "code",
   "execution_count": 9,
   "metadata": {},
   "outputs": [],
   "source": [
    "cms_rating = preprocess_pat_sur_rating(data, 'Patient Survey Star Rating')\n",
    "cms_rating_pivot = cms_rating.pivot_table(index = 'Facility ID', values = 'Patient Survey Star Rating',columns = \"HCAHPS Question\").reset_index()"
   ]
  },
  {
   "cell_type": "code",
   "execution_count": 10,
   "metadata": {},
   "outputs": [
    {
     "data": {
      "text/html": [
       "<div>\n",
       "<style scoped>\n",
       "    .dataframe tbody tr th:only-of-type {\n",
       "        vertical-align: middle;\n",
       "    }\n",
       "\n",
       "    .dataframe tbody tr th {\n",
       "        vertical-align: top;\n",
       "    }\n",
       "\n",
       "    .dataframe thead th {\n",
       "        text-align: right;\n",
       "    }\n",
       "</style>\n",
       "<table border=\"1\" class=\"dataframe\">\n",
       "  <thead>\n",
       "    <tr style=\"text-align: right;\">\n",
       "      <th>HCAHPS Question</th>\n",
       "      <th>Facility ID</th>\n",
       "      <th>Care transition - star rating</th>\n",
       "      <th>Cleanliness - star rating</th>\n",
       "      <th>Communication about medicines - star rating</th>\n",
       "      <th>Discharge information - star rating</th>\n",
       "      <th>Doctor communication - star rating</th>\n",
       "      <th>Nurse communication - star rating</th>\n",
       "      <th>Overall hospital rating - star rating</th>\n",
       "      <th>Quietness - star rating</th>\n",
       "      <th>Recommend hospital - star rating</th>\n",
       "      <th>Staff responsiveness - star rating</th>\n",
       "      <th>Summary star rating</th>\n",
       "    </tr>\n",
       "  </thead>\n",
       "  <tbody>\n",
       "    <tr>\n",
       "      <th>0</th>\n",
       "      <td>10001</td>\n",
       "      <td>2.0000</td>\n",
       "      <td>2.500000</td>\n",
       "      <td>2.0</td>\n",
       "      <td>3.000000</td>\n",
       "      <td>2.5</td>\n",
       "      <td>2.0</td>\n",
       "      <td>2.500000</td>\n",
       "      <td>4.000000</td>\n",
       "      <td>3.000000</td>\n",
       "      <td>1.5</td>\n",
       "      <td>2.000000</td>\n",
       "    </tr>\n",
       "    <tr>\n",
       "      <th>1</th>\n",
       "      <td>10005</td>\n",
       "      <td>3.0000</td>\n",
       "      <td>2.500000</td>\n",
       "      <td>4.0</td>\n",
       "      <td>3.500000</td>\n",
       "      <td>4.0</td>\n",
       "      <td>3.5</td>\n",
       "      <td>3.000000</td>\n",
       "      <td>3.500000</td>\n",
       "      <td>3.000000</td>\n",
       "      <td>3.0</td>\n",
       "      <td>3.000000</td>\n",
       "    </tr>\n",
       "    <tr>\n",
       "      <th>2</th>\n",
       "      <td>10006</td>\n",
       "      <td>2.5000</td>\n",
       "      <td>1.000000</td>\n",
       "      <td>2.5</td>\n",
       "      <td>2.500000</td>\n",
       "      <td>3.0</td>\n",
       "      <td>2.5</td>\n",
       "      <td>2.000000</td>\n",
       "      <td>3.000000</td>\n",
       "      <td>2.000000</td>\n",
       "      <td>2.0</td>\n",
       "      <td>2.500000</td>\n",
       "    </tr>\n",
       "    <tr>\n",
       "      <th>3</th>\n",
       "      <td>10007</td>\n",
       "      <td>2.0000</td>\n",
       "      <td>2.500000</td>\n",
       "      <td>3.0</td>\n",
       "      <td>3.000000</td>\n",
       "      <td>4.5</td>\n",
       "      <td>2.5</td>\n",
       "      <td>3.000000</td>\n",
       "      <td>3.500000</td>\n",
       "      <td>3.000000</td>\n",
       "      <td>3.0</td>\n",
       "      <td>3.000000</td>\n",
       "    </tr>\n",
       "    <tr>\n",
       "      <th>4</th>\n",
       "      <td>10011</td>\n",
       "      <td>3.0000</td>\n",
       "      <td>2.000000</td>\n",
       "      <td>2.5</td>\n",
       "      <td>3.000000</td>\n",
       "      <td>3.0</td>\n",
       "      <td>2.5</td>\n",
       "      <td>3.000000</td>\n",
       "      <td>3.000000</td>\n",
       "      <td>3.000000</td>\n",
       "      <td>3.0</td>\n",
       "      <td>3.000000</td>\n",
       "    </tr>\n",
       "    <tr>\n",
       "      <th>...</th>\n",
       "      <td>...</td>\n",
       "      <td>...</td>\n",
       "      <td>...</td>\n",
       "      <td>...</td>\n",
       "      <td>...</td>\n",
       "      <td>...</td>\n",
       "      <td>...</td>\n",
       "      <td>...</td>\n",
       "      <td>...</td>\n",
       "      <td>...</td>\n",
       "      <td>...</td>\n",
       "      <td>...</td>\n",
       "    </tr>\n",
       "    <tr>\n",
       "      <th>6018</th>\n",
       "      <td>520091</td>\n",
       "      <td>3.0000</td>\n",
       "      <td>3.000000</td>\n",
       "      <td>4.0</td>\n",
       "      <td>3.000000</td>\n",
       "      <td>3.0</td>\n",
       "      <td>4.0</td>\n",
       "      <td>3.000000</td>\n",
       "      <td>2.000000</td>\n",
       "      <td>4.000000</td>\n",
       "      <td>4.0</td>\n",
       "      <td>3.000000</td>\n",
       "    </tr>\n",
       "    <tr>\n",
       "      <th>6019</th>\n",
       "      <td>520095</td>\n",
       "      <td>5.0000</td>\n",
       "      <td>5.000000</td>\n",
       "      <td>5.0</td>\n",
       "      <td>5.000000</td>\n",
       "      <td>5.0</td>\n",
       "      <td>5.0</td>\n",
       "      <td>5.000000</td>\n",
       "      <td>5.000000</td>\n",
       "      <td>5.000000</td>\n",
       "      <td>5.0</td>\n",
       "      <td>5.000000</td>\n",
       "    </tr>\n",
       "    <tr>\n",
       "      <th>6020</th>\n",
       "      <td>520096</td>\n",
       "      <td>2.0000</td>\n",
       "      <td>2.000000</td>\n",
       "      <td>3.0</td>\n",
       "      <td>3.000000</td>\n",
       "      <td>3.0</td>\n",
       "      <td>3.0</td>\n",
       "      <td>3.000000</td>\n",
       "      <td>2.000000</td>\n",
       "      <td>2.000000</td>\n",
       "      <td>3.0</td>\n",
       "      <td>3.000000</td>\n",
       "    </tr>\n",
       "    <tr>\n",
       "      <th>6021</th>\n",
       "      <td>520097</td>\n",
       "      <td>3.0000</td>\n",
       "      <td>4.000000</td>\n",
       "      <td>3.0</td>\n",
       "      <td>3.000000</td>\n",
       "      <td>4.0</td>\n",
       "      <td>4.0</td>\n",
       "      <td>4.000000</td>\n",
       "      <td>3.000000</td>\n",
       "      <td>3.000000</td>\n",
       "      <td>3.0</td>\n",
       "      <td>3.000000</td>\n",
       "    </tr>\n",
       "    <tr>\n",
       "      <th>6022</th>\n",
       "      <td>520098</td>\n",
       "      <td>2.9475</td>\n",
       "      <td>2.951487</td>\n",
       "      <td>3.0</td>\n",
       "      <td>3.197823</td>\n",
       "      <td>3.0</td>\n",
       "      <td>4.0</td>\n",
       "      <td>3.287922</td>\n",
       "      <td>2.952152</td>\n",
       "      <td>3.203771</td>\n",
       "      <td>3.0</td>\n",
       "      <td>3.171789</td>\n",
       "    </tr>\n",
       "  </tbody>\n",
       "</table>\n",
       "<p>6023 rows × 12 columns</p>\n",
       "</div>"
      ],
      "text/plain": [
       "HCAHPS Question Facility ID  Care transition - star rating  \\\n",
       "0                     10001                         2.0000   \n",
       "1                     10005                         3.0000   \n",
       "2                     10006                         2.5000   \n",
       "3                     10007                         2.0000   \n",
       "4                     10011                         3.0000   \n",
       "...                     ...                            ...   \n",
       "6018                 520091                         3.0000   \n",
       "6019                 520095                         5.0000   \n",
       "6020                 520096                         2.0000   \n",
       "6021                 520097                         3.0000   \n",
       "6022                 520098                         2.9475   \n",
       "\n",
       "HCAHPS Question  Cleanliness - star rating  \\\n",
       "0                                 2.500000   \n",
       "1                                 2.500000   \n",
       "2                                 1.000000   \n",
       "3                                 2.500000   \n",
       "4                                 2.000000   \n",
       "...                                    ...   \n",
       "6018                              3.000000   \n",
       "6019                              5.000000   \n",
       "6020                              2.000000   \n",
       "6021                              4.000000   \n",
       "6022                              2.951487   \n",
       "\n",
       "HCAHPS Question  Communication about medicines - star rating  \\\n",
       "0                                                        2.0   \n",
       "1                                                        4.0   \n",
       "2                                                        2.5   \n",
       "3                                                        3.0   \n",
       "4                                                        2.5   \n",
       "...                                                      ...   \n",
       "6018                                                     4.0   \n",
       "6019                                                     5.0   \n",
       "6020                                                     3.0   \n",
       "6021                                                     3.0   \n",
       "6022                                                     3.0   \n",
       "\n",
       "HCAHPS Question  Discharge information - star rating  \\\n",
       "0                                           3.000000   \n",
       "1                                           3.500000   \n",
       "2                                           2.500000   \n",
       "3                                           3.000000   \n",
       "4                                           3.000000   \n",
       "...                                              ...   \n",
       "6018                                        3.000000   \n",
       "6019                                        5.000000   \n",
       "6020                                        3.000000   \n",
       "6021                                        3.000000   \n",
       "6022                                        3.197823   \n",
       "\n",
       "HCAHPS Question  Doctor communication - star rating  \\\n",
       "0                                               2.5   \n",
       "1                                               4.0   \n",
       "2                                               3.0   \n",
       "3                                               4.5   \n",
       "4                                               3.0   \n",
       "...                                             ...   \n",
       "6018                                            3.0   \n",
       "6019                                            5.0   \n",
       "6020                                            3.0   \n",
       "6021                                            4.0   \n",
       "6022                                            3.0   \n",
       "\n",
       "HCAHPS Question  Nurse communication - star rating  \\\n",
       "0                                              2.0   \n",
       "1                                              3.5   \n",
       "2                                              2.5   \n",
       "3                                              2.5   \n",
       "4                                              2.5   \n",
       "...                                            ...   \n",
       "6018                                           4.0   \n",
       "6019                                           5.0   \n",
       "6020                                           3.0   \n",
       "6021                                           4.0   \n",
       "6022                                           4.0   \n",
       "\n",
       "HCAHPS Question  Overall hospital rating - star rating  \\\n",
       "0                                             2.500000   \n",
       "1                                             3.000000   \n",
       "2                                             2.000000   \n",
       "3                                             3.000000   \n",
       "4                                             3.000000   \n",
       "...                                                ...   \n",
       "6018                                          3.000000   \n",
       "6019                                          5.000000   \n",
       "6020                                          3.000000   \n",
       "6021                                          4.000000   \n",
       "6022                                          3.287922   \n",
       "\n",
       "HCAHPS Question  Quietness - star rating  Recommend hospital - star rating  \\\n",
       "0                               4.000000                          3.000000   \n",
       "1                               3.500000                          3.000000   \n",
       "2                               3.000000                          2.000000   \n",
       "3                               3.500000                          3.000000   \n",
       "4                               3.000000                          3.000000   \n",
       "...                                  ...                               ...   \n",
       "6018                            2.000000                          4.000000   \n",
       "6019                            5.000000                          5.000000   \n",
       "6020                            2.000000                          2.000000   \n",
       "6021                            3.000000                          3.000000   \n",
       "6022                            2.952152                          3.203771   \n",
       "\n",
       "HCAHPS Question  Staff responsiveness - star rating  Summary star rating  \n",
       "0                                               1.5             2.000000  \n",
       "1                                               3.0             3.000000  \n",
       "2                                               2.0             2.500000  \n",
       "3                                               3.0             3.000000  \n",
       "4                                               3.0             3.000000  \n",
       "...                                             ...                  ...  \n",
       "6018                                            4.0             3.000000  \n",
       "6019                                            5.0             5.000000  \n",
       "6020                                            3.0             3.000000  \n",
       "6021                                            3.0             3.000000  \n",
       "6022                                            3.0             3.171789  \n",
       "\n",
       "[6023 rows x 12 columns]"
      ]
     },
     "execution_count": 10,
     "metadata": {},
     "output_type": "execute_result"
    }
   ],
   "source": [
    "fill_all_na(cms_rating_pivot)\n",
    "cms_rating_pivot"
   ]
  },
  {
   "cell_type": "markdown",
   "metadata": {},
   "source": [
    "### Now, as we have three different years data, we can pivot them using Year as a column parameter, which would help us in finding out the increase in the overall hospital rating per every year"
   ]
  },
  {
   "cell_type": "code",
   "execution_count": 11,
   "metadata": {},
   "outputs": [
    {
     "data": {
      "text/plain": [
       "True"
      ]
     },
     "execution_count": 11,
     "metadata": {},
     "output_type": "execute_result"
    }
   ],
   "source": [
    "any(data['Hospital overall rating'].isna())"
   ]
  },
  {
   "cell_type": "code",
   "execution_count": 12,
   "metadata": {},
   "outputs": [],
   "source": [
    "data['Hospital overall rating'].fillna('0',inplace = True)"
   ]
  },
  {
   "cell_type": "code",
   "execution_count": 13,
   "metadata": {},
   "outputs": [
    {
     "data": {
      "text/html": [
       "<div>\n",
       "<style scoped>\n",
       "    .dataframe tbody tr th:only-of-type {\n",
       "        vertical-align: middle;\n",
       "    }\n",
       "\n",
       "    .dataframe tbody tr th {\n",
       "        vertical-align: top;\n",
       "    }\n",
       "\n",
       "    .dataframe thead th {\n",
       "        text-align: right;\n",
       "    }\n",
       "</style>\n",
       "<table border=\"1\" class=\"dataframe\">\n",
       "  <thead>\n",
       "    <tr style=\"text-align: right;\">\n",
       "      <th>Year</th>\n",
       "      <th>Facility ID</th>\n",
       "      <th>2018</th>\n",
       "      <th>2019</th>\n",
       "      <th>2020</th>\n",
       "    </tr>\n",
       "  </thead>\n",
       "  <tbody>\n",
       "    <tr>\n",
       "      <th>0</th>\n",
       "      <td>10001</td>\n",
       "      <td>3.0</td>\n",
       "      <td>2.0</td>\n",
       "      <td>NaN</td>\n",
       "    </tr>\n",
       "    <tr>\n",
       "      <th>1</th>\n",
       "      <td>10005</td>\n",
       "      <td>2.0</td>\n",
       "      <td>1.0</td>\n",
       "      <td>NaN</td>\n",
       "    </tr>\n",
       "    <tr>\n",
       "      <th>2</th>\n",
       "      <td>10006</td>\n",
       "      <td>2.0</td>\n",
       "      <td>3.0</td>\n",
       "      <td>NaN</td>\n",
       "    </tr>\n",
       "    <tr>\n",
       "      <th>3</th>\n",
       "      <td>10007</td>\n",
       "      <td>2.0</td>\n",
       "      <td>1.0</td>\n",
       "      <td>NaN</td>\n",
       "    </tr>\n",
       "    <tr>\n",
       "      <th>4</th>\n",
       "      <td>10008</td>\n",
       "      <td>4.0</td>\n",
       "      <td>4.0</td>\n",
       "      <td>NaN</td>\n",
       "    </tr>\n",
       "    <tr>\n",
       "      <th>...</th>\n",
       "      <td>...</td>\n",
       "      <td>...</td>\n",
       "      <td>...</td>\n",
       "      <td>...</td>\n",
       "    </tr>\n",
       "    <tr>\n",
       "      <th>6416</th>\n",
       "      <td>520091</td>\n",
       "      <td>NaN</td>\n",
       "      <td>NaN</td>\n",
       "      <td>4.0</td>\n",
       "    </tr>\n",
       "    <tr>\n",
       "      <th>6417</th>\n",
       "      <td>520095</td>\n",
       "      <td>NaN</td>\n",
       "      <td>NaN</td>\n",
       "      <td>5.0</td>\n",
       "    </tr>\n",
       "    <tr>\n",
       "      <th>6418</th>\n",
       "      <td>520096</td>\n",
       "      <td>NaN</td>\n",
       "      <td>NaN</td>\n",
       "      <td>1.0</td>\n",
       "    </tr>\n",
       "    <tr>\n",
       "      <th>6419</th>\n",
       "      <td>520097</td>\n",
       "      <td>NaN</td>\n",
       "      <td>NaN</td>\n",
       "      <td>4.0</td>\n",
       "    </tr>\n",
       "    <tr>\n",
       "      <th>6420</th>\n",
       "      <td>520098</td>\n",
       "      <td>NaN</td>\n",
       "      <td>NaN</td>\n",
       "      <td>4.0</td>\n",
       "    </tr>\n",
       "  </tbody>\n",
       "</table>\n",
       "<p>6421 rows × 4 columns</p>\n",
       "</div>"
      ],
      "text/plain": [
       "Year Facility ID  2018  2019  2020\n",
       "0          10001   3.0   2.0   NaN\n",
       "1          10005   2.0   1.0   NaN\n",
       "2          10006   2.0   3.0   NaN\n",
       "3          10007   2.0   1.0   NaN\n",
       "4          10008   4.0   4.0   NaN\n",
       "...          ...   ...   ...   ...\n",
       "6416      520091   NaN   NaN   4.0\n",
       "6417      520095   NaN   NaN   5.0\n",
       "6418      520096   NaN   NaN   1.0\n",
       "6419      520097   NaN   NaN   4.0\n",
       "6420      520098   NaN   NaN   4.0\n",
       "\n",
       "[6421 rows x 4 columns]"
      ]
     },
     "execution_count": 13,
     "metadata": {},
     "output_type": "execute_result"
    }
   ],
   "source": [
    "cms_overall_rating = preprocess_pat_sur_rating(data, 'Hospital overall rating')\n",
    "cms_overall_rating_pivot = cms_overall_rating.pivot_table(index = 'Facility ID', values = 'Hospital overall rating', columns = 'Year')\n",
    "cms_overall_rating_pivot.reset_index()"
   ]
  },
  {
   "cell_type": "code",
   "execution_count": 14,
   "metadata": {},
   "outputs": [
    {
     "data": {
      "text/plain": [
       "False"
      ]
     },
     "execution_count": 14,
     "metadata": {},
     "output_type": "execute_result"
    }
   ],
   "source": [
    "any(data['Hospital overall rating'].isna())"
   ]
  },
  {
   "cell_type": "code",
   "execution_count": 15,
   "metadata": {},
   "outputs": [],
   "source": [
    "fill_all_na(cms_overall_rating_pivot)\n",
    "cms_overall_rating = cms_overall_rating_pivot.reset_index()"
   ]
  },
  {
   "cell_type": "markdown",
   "metadata": {},
   "source": [
    "### pre_process_for_histogram takes in a data_frame and returns a separate dictionary for each of the year with the frequency of rating(1-5)."
   ]
  },
  {
   "cell_type": "code",
   "execution_count": 16,
   "metadata": {},
   "outputs": [],
   "source": [
    "def pre_process_for_histogram(df):\n",
    "    year_2018_dict = dict()\n",
    "    year_2019_dict = dict()\n",
    "    year_2020_dict = dict()\n",
    "    \n",
    "    for i in range(1, 6): \n",
    "        #initiating with 0 frequency for all three years\n",
    "        year_2018_dict[i] = 0\n",
    "        year_2019_dict[i] = 0\n",
    "        year_2020_dict[i] = 0\n",
    "    \n",
    "    for ind in df.index: \n",
    "        for column in df.columns:\n",
    "            #increase the frequency of that particular rating based on the year\n",
    "            if column == 2018: \n",
    "                year_2018_dict[int(df[column][ind])] += 1\n",
    "            if column == 2019:\n",
    "                year_2019_dict[int(df[column][ind])] += 1\n",
    "            if column == 2020:\n",
    "                year_2020_dict[int(df[column][ind])] += 1\n",
    "    return year_2018_dict, year_2019_dict, year_2020_dict "
   ]
  },
  {
   "cell_type": "markdown",
   "metadata": {},
   "source": [
    "### Just trying to escape the step of plotting the histogram every time we need. so created a plot_hist function which takes in list of all dictionaries and iterates through each and then plots a bar/hist graph."
   ]
  },
  {
   "cell_type": "code",
   "execution_count": 17,
   "metadata": {},
   "outputs": [],
   "source": [
    "def plot_hist(plot_data):\n",
    "    import matplotlib.pyplot as plt\n",
    "    for data in plot_data:\n",
    "        plt.bar(data.keys(), data.values())\n",
    "        plt.show()"
   ]
  },
  {
   "cell_type": "code",
   "execution_count": 18,
   "metadata": {},
   "outputs": [],
   "source": [
    "year_2018, year_2019, year_2020 = pre_process_for_histogram(cms_overall_rating) "
   ]
  },
  {
   "cell_type": "code",
   "execution_count": 19,
   "metadata": {},
   "outputs": [
    {
     "data": {
      "image/png": "[encoded data removed]",
      "text/plain": [
       "<Figure size 432x288 with 1 Axes>"
      ]
     },
     "metadata": {
      "needs_background": "light"
     },
     "output_type": "display_data"
    },
    {
     "data": {
      "image/png": "[encoded data removed]",
      "text/plain": [
       "<Figure size 432x288 with 1 Axes>"
      ]
     },
     "metadata": {
      "needs_background": "light"
     },
     "output_type": "display_data"
    },
    {
     "data": {
      "image/png": "[encoded data removed]",
      "text/plain": [
       "<Figure size 432x288 with 1 Axes>"
      ]
     },
     "metadata": {
      "needs_background": "light"
     },
     "output_type": "display_data"
    }
   ],
   "source": [
    "year_list = []\n",
    "year_list.append(year_2018)\n",
    "year_list.append(year_2019)\n",
    "year_list.append(year_2020)\n",
    "plot_hist(year_list)"
   ]
  },
  {
   "cell_type": "code",
   "execution_count": 20,
   "metadata": {},
   "outputs": [
    {
     "data": {
      "text/plain": [
       "[{1: 259, 2: 750, 3: 3924, 4: 1153, 5: 335},\n",
       " {1: 89, 2: 5841, 3: 262, 4: 178, 5: 51},\n",
       " {1: 225, 2: 702, 3: 3945, 4: 1141, 5: 408}]"
      ]
     },
     "execution_count": 20,
     "metadata": {},
     "output_type": "execute_result"
    }
   ],
   "source": [
    "year_list"
   ]
  },
  {
   "cell_type": "markdown",
   "metadata": {},
   "source": [
    "### Wanted to understand how is the overall rating under each ownership. With this we can get to know which owner should be more concerned and dedicated to increase the rating. "
   ]
  },
  {
   "cell_type": "code",
   "execution_count": 21,
   "metadata": {},
   "outputs": [],
   "source": [
    "data = preprocess_pat_sur_rating(data, 'Hospital overall rating')\n",
    "grouped_data_ownership = data.groupby(['Hospital Ownership'])['Hospital overall rating'].mean().reset_index()"
   ]
  },
  {
   "cell_type": "code",
   "execution_count": 22,
   "metadata": {},
   "outputs": [
    {
     "data": {
      "text/html": [
       "<div>\n",
       "<style scoped>\n",
       "    .dataframe tbody tr th:only-of-type {\n",
       "        vertical-align: middle;\n",
       "    }\n",
       "\n",
       "    .dataframe tbody tr th {\n",
       "        vertical-align: top;\n",
       "    }\n",
       "\n",
       "    .dataframe thead th {\n",
       "        text-align: right;\n",
       "    }\n",
       "</style>\n",
       "<table border=\"1\" class=\"dataframe\">\n",
       "  <thead>\n",
       "    <tr style=\"text-align: right;\">\n",
       "      <th></th>\n",
       "      <th>Hospital Ownership</th>\n",
       "      <th>Hospital overall rating</th>\n",
       "    </tr>\n",
       "  </thead>\n",
       "  <tbody>\n",
       "    <tr>\n",
       "      <th>0</th>\n",
       "      <td>Government - Federal</td>\n",
       "      <td>2.430075</td>\n",
       "    </tr>\n",
       "    <tr>\n",
       "      <th>1</th>\n",
       "      <td>Government - Hospital District or Authority</td>\n",
       "      <td>3.044482</td>\n",
       "    </tr>\n",
       "    <tr>\n",
       "      <th>2</th>\n",
       "      <td>Government - Local</td>\n",
       "      <td>3.074421</td>\n",
       "    </tr>\n",
       "    <tr>\n",
       "      <th>3</th>\n",
       "      <td>Government - State</td>\n",
       "      <td>2.823382</td>\n",
       "    </tr>\n",
       "    <tr>\n",
       "      <th>4</th>\n",
       "      <td>Physician</td>\n",
       "      <td>3.663612</td>\n",
       "    </tr>\n",
       "    <tr>\n",
       "      <th>5</th>\n",
       "      <td>Proprietary</td>\n",
       "      <td>2.795225</td>\n",
       "    </tr>\n",
       "    <tr>\n",
       "      <th>6</th>\n",
       "      <td>Tribal</td>\n",
       "      <td>3.104384</td>\n",
       "    </tr>\n",
       "    <tr>\n",
       "      <th>7</th>\n",
       "      <td>Voluntary non-profit - Church</td>\n",
       "      <td>3.332902</td>\n",
       "    </tr>\n",
       "    <tr>\n",
       "      <th>8</th>\n",
       "      <td>Voluntary non-profit - Other</td>\n",
       "      <td>3.247963</td>\n",
       "    </tr>\n",
       "    <tr>\n",
       "      <th>9</th>\n",
       "      <td>Voluntary non-profit - Private</td>\n",
       "      <td>3.276074</td>\n",
       "    </tr>\n",
       "  </tbody>\n",
       "</table>\n",
       "</div>"
      ],
      "text/plain": [
       "                            Hospital Ownership  Hospital overall rating\n",
       "0                         Government - Federal                 2.430075\n",
       "1  Government - Hospital District or Authority                 3.044482\n",
       "2                           Government - Local                 3.074421\n",
       "3                           Government - State                 2.823382\n",
       "4                                    Physician                 3.663612\n",
       "5                                  Proprietary                 2.795225\n",
       "6                                       Tribal                 3.104384\n",
       "7                Voluntary non-profit - Church                 3.332902\n",
       "8                 Voluntary non-profit - Other                 3.247963\n",
       "9               Voluntary non-profit - Private                 3.276074"
      ]
     },
     "execution_count": 22,
     "metadata": {},
     "output_type": "execute_result"
    }
   ],
   "source": [
    "grouped_data_ownership"
   ]
  },
  {
   "cell_type": "code",
   "execution_count": 23,
   "metadata": {},
   "outputs": [
    {
     "data": {
      "text/plain": [
       "<matplotlib.axes._subplots.AxesSubplot at 0x7fbb9ac5c048>"
      ]
     },
     "execution_count": 23,
     "metadata": {},
     "output_type": "execute_result"
    },
    {
     "data": {
      "image/png": "[encoded data removed]",
      "text/plain": [
       "<Figure size 432x288 with 1 Axes>"
      ]
     },
     "metadata": {
      "needs_background": "light"
     },
     "output_type": "display_data"
    }
   ],
   "source": [
    "grouped_data_ownership.plot(x='Hospital Ownership', y='Hospital overall rating', style='o')"
   ]
  },
  {
   "cell_type": "markdown",
   "metadata": {},
   "source": [
    "### Generally, if there are emergency services in a hospital, then there are high chances that the rating of the hospital is pretty better than average rating. But, this is a new finding... We could see that average rating with emergency services is lesser than without emergency services. Probably, this is because of many hospitals who have emergency services options are not executing them well.   \n",
    "\n",
    "#### Reading the emergency data, rating from different files and joining them on facilityID column."
   ]
  },
  {
   "cell_type": "code",
   "execution_count": 24,
   "metadata": {},
   "outputs": [],
   "source": [
    "facility_id_emergency = pd.read_excel(\"facility_id_emergency_services.xlsx\")\n",
    "facility_id_rating = pd.read_excel(\"facility_id_overall_rating.xlsx\")"
   ]
  },
  {
   "cell_type": "code",
   "execution_count": 25,
   "metadata": {},
   "outputs": [],
   "source": [
    "joined_on_facility_id = facility_id_emergency.merge(facility_id_rating, how='inner')"
   ]
  },
  {
   "cell_type": "markdown",
   "metadata": {},
   "source": [
    "#### Now, we calculate the average of overall rating after group on FacilityID and Emergency Services columns."
   ]
  },
  {
   "cell_type": "code",
   "execution_count": 26,
   "metadata": {},
   "outputs": [],
   "source": [
    "grouped_facility_id = joined_on_facility_id.groupby(['Facility ID', 'Emergency Services'])['Hospital overall rating'].mean().reset_index()"
   ]
  },
  {
   "cell_type": "markdown",
   "metadata": {},
   "source": [
    "#### Utilizing the plot_hist function written above and plotting the graph to show the average rating w.r.t hospitals having emergency services and not having them."
   ]
  },
  {
   "cell_type": "code",
   "execution_count": 27,
   "metadata": {},
   "outputs": [
    {
     "data": {
      "image/png": "[encoded data removed]",
      "text/plain": [
       "<Figure size 432x288 with 1 Axes>"
      ]
     },
     "metadata": {
      "needs_background": "light"
     },
     "output_type": "display_data"
    }
   ],
   "source": [
    "emergency_rating = dict()\n",
    "emergency_rating['Yes'] = grouped_facility_id[grouped_facility_id[\"Emergency Services\"] == 'Yes']['Hospital overall rating'].mean()\n",
    "emergency_rating['No'] = grouped_facility_id[grouped_facility_id[\"Emergency Services\"] == 'No']['Hospital overall rating'].mean()\n",
    "plot_hist([emergency_rating])"
   ]
  },
  {
   "cell_type": "code",
   "execution_count": null,
   "metadata": {},
   "outputs": [],
   "source": [
    "a=input('''\n",
    "Are you ready to submit your work?\n",
    "1. Click the Save icon (or do Ctrl-S / Cmd-S)\n",
    "2. Type \"yes\" or \"no\" below\n",
    "3. Press Enter\n",
    "\n",
    "''')\n",
    "\n",
    "if a=='yes':\n",
    "    !git add Sahaja_final.ipynb\n",
    "    !git commit -a -m \"Submitting Sahaja_s\"\n",
    "    !git push\n",
    "else:\n",
    "    print('''\n",
    "    \n",
    "OK. We can wait.\n",
    "''')"
   ]
  }
 ],
 "metadata": {
  "kernelspec": {
   "display_name": "Python 3",
   "language": "python",
   "name": "python3"
  },
  "language_info": {
   "codemirror_mode": {
    "name": "ipython",
    "version": 3
   },
   "file_extension": ".py",
   "mimetype": "text/x-python",
   "name": "python",
   "nbconvert_exporter": "python",
   "pygments_lexer": "ipython3",
   "version": "3.6.7"
  }
 },
 "nbformat": 4,
 "nbformat_minor": 4
}
